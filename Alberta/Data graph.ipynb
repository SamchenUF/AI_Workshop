{
 "cells": [
  {
   "cell_type": "markdown",
   "metadata": {},
   "source": [
    "Extracting data from average f1 scores and plotting it"
   ]
  },
  {
   "cell_type": "markdown",
   "metadata": {},
   "source": [
    "Basic code to read data from the files and get the weighted average"
   ]
  },
  {
   "cell_type": "code",
   "execution_count": 79,
   "metadata": {},
   "outputs": [],
   "source": [
    "import matplotlib.pyplot as plt\n",
    "class filesToRead:\n",
    "    def __init__(self):\n",
    "        self.fileList = []\n",
    "        self.precision = False\n",
    "        self.recall = False\n",
    "        self.f1Score = False\n",
    "\n",
    "    def addFile(self, fileStr):\n",
    "        self.fileList.append(fileStr)\n",
    "\n",
    "    def getFileList(self):\n",
    "        return len(self.fileList)\n",
    "\n",
    "    def readFile(self):\n",
    "        #Get all the files and read them\n",
    "        avgList = [[],[],[]]\n",
    "        for x in self.fileList:\n",
    "            File_results = open(x)\n",
    "            File_object = File_results.readlines()\n",
    "            #Find the weighted avg line in the file and split the line into a list using space delimination\n",
    "            for txt in File_object:\n",
    "                if \"precision\" in txt:\n",
    "                    precisionCol = txt.split().index(\"precision\")\n",
    "                if \"recall\" in txt:\n",
    "                    recallCol = txt.split().index(\"recall\")\n",
    "                if \"f1-score\" in txt:\n",
    "                    f1Col = txt.split().index(\"f1-score\")\n",
    "                if \"weighted avg\" in txt:\n",
    "                    s = txt.split()\n",
    "                \n",
    "            #Adds to a list the f1 score avg(fifth item in list because weighted avg takes up 2 spaces in list)\n",
    "            if self.precision:\n",
    "                avgList[0].append(float(s[2+precisionCol]))\n",
    "            if self.recall:\n",
    "                avgList[1].append(float(s[2+recallCol]))\n",
    "            if self.f1Score:\n",
    "                avgList[2].append(float(s[2+f1Col]))\n",
    "        return avgList\n"
   ]
  },
  {
   "cell_type": "markdown",
   "metadata": {},
   "source": [
    "Function that takes in the list returned from reading the files and plots it"
   ]
  },
  {
   "cell_type": "code",
   "execution_count": 82,
   "metadata": {},
   "outputs": [],
   "source": [
    "def createGraph(n, fileClass, name):\n",
    "    #list that havee all ints from 1 to len of n\n",
    "    xl = list(range(1, len(n[0])+1))\n",
    "    x2 = list(range(1, len(n[1])+1))\n",
    "    x3 = list(range(1, len(n[2])+1))\n",
    "    \n",
    "    #plot with x as the number of values in n, and y is list n\n",
    "    plt.plot(xl, n[0], marker = 'o', label = \"Precision\")\n",
    "    plt.plot(x2, n[1], marker = 'x', label = \"Recall\")\n",
    "    plt.plot(x3, n[2], marker = 'v', label = \"F1-Score\")\n",
    "    plt.legend(loc=\"upper left\")\n",
    "    plt.xlim(1, fileClass.getFileList())\n",
    "    plt.locator_params(axis=\"x\", integer=True, tight=True)\n",
    "    plt.ylim(0,1)\n",
    "    plt.yticks([0,0.1,0.2,0.3,0.4,0.5,0.6,0.7,0.8,0.9,1],[0,0.1,0.2,0.3,0.4,0.5,0.6,0.7,0.8,0.9,1])\n",
    "    plt.xlabel(\"Training Iterations\")\n",
    "    plt.ylabel(\"Weighted Average\")\n",
    "    label = plt.gca()\n",
    "    for tick in label.get_xticklabels():\n",
    "        tick.set_color(\"red\")\n",
    "\n",
    "    for tick in label.get_yticklabels():\n",
    "        tick.set_color(\"red\")\n",
    "    plt.tick_params(axis=\"both\", color = \"red\")\n",
    "    plt.savefig(name)\n",
    "    plt.show()\n",
    "    plt.close()"
   ]
  },
  {
   "cell_type": "markdown",
   "metadata": {},
   "source": [
    "Driver code to run functions"
   ]
  },
  {
   "cell_type": "code",
   "execution_count": 83,
   "metadata": {},
   "outputs": [
    {
     "data": {
      "image/png": "[encoded data removed]",
      "text/plain": [
       "<Figure size 640x480 with 1 Axes>"
      ]
     },
     "metadata": {},
     "output_type": "display_data"
    }
   ],
   "source": [
    "fileReader = filesToRead()\n",
    "#set to true whatever variable you want to sho up on graph\n",
    "fileReader.f1Score = True\n",
    "#Add whatever files you need here: below is an example of how to do it\n",
    "#tester.addFile(\"What ever your file name is called\")\n",
    "fileReader.addFile(\"DIU_Skynet2_CRFcustom.results\")\n",
    "fileReader.addFile(\"DIU_Skynet3_HMM.results\")\n",
    "fileReader.addFile(\"DIU_ZR2_1_CRFcustom.results\")\n",
    "\n",
    "#calls the functions to read files and print out the graph\n",
    "rl = fileReader.readFile()\n",
    "\n",
    "#fileToBeNamed = input(\"What do you want the graph file to be named?\")\n",
    "createGraph(rl, fileReader,\"fileToBeNamed\")\n",
    "#or can just put graph name into the function call\n",
    "#createGraph(r1, \"whatever name you want the grpah file to be called\")\n"
   ]
  },
  {
   "cell_type": "markdown",
   "metadata": {},
   "source": [
    "# TODO\n",
    "\n",
    "* ~~Change font color of labels and tick marks to a ligher color so they are readable against a black background~~\n",
    "* ~~Add labels to chart~~\n",
    "    - ~~Y axis \"weighted average\"~~\n",
    "    - ~~X axis \"Training Iterations\"~~\n",
    "* ~~make it easier to customize .png file name~~\n",
    "* ~~Plot multiple lines with different colors and markers (e.g. boxes and triangles)~~\n",
    "    - ~~weighted avg Precision~~\n",
    "    - ~~weighted avg Recall~~\n",
    "    - ~~write code that it is easy to add or remove any of these three lines depending on what we want to graph~~\n",
    "* Create separate charts with information\n",
    "    - for any chosen class, i.e. if I pick the label in the first column, the code will graph the precision, recall, and F1 from that row"
   ]
  }
 ],
 "metadata": {
  "kernelspec": {
   "display_name": "Python 3",
   "language": "python",
   "name": "python3"
  },
  "language_info": {
   "codemirror_mode": {
    "name": "ipython",
    "version": 3
   },
   "file_extension": ".py",
   "mimetype": "text/x-python",
   "name": "python",
   "nbconvert_exporter": "python",
   "pygments_lexer": "ipython3",
   "version": "3.8.8"
  }
 },
 "nbformat": 4,
 "nbformat_minor": 2
}
