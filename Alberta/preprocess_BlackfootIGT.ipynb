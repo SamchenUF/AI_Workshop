{
 "cells": [
  {
   "cell_type": "code",
   "execution_count": 4,
   "id": "63493b47",
   "metadata": {},
   "outputs": [],
   "source": [
    "from sklearn.model_selection import train_test_split"
   ]
  },
  {
   "cell_type": "code",
   "execution_count": 5,
   "id": "483d4901",
   "metadata": {},
   "outputs": [],
   "source": [
    "TEAMCODE = 'bkft'\n",
    "TASK = '_igt'\n",
    "MODEL = 'Trans'\n",
    "\n",
    "FROMDIR = r'./AI_Workshop/Alberta/bkft/'\n",
    "TODIR = FROMDIR + '/data/'\n",
    "ANNOTATED_FILE = \n",
    "UNANNOTATED_FILE = \n",
    "\n",
    "KEY = TEAMCODE+TASK+MODEL\n",
    "\n",
    "PUNCTUATION = ['!', '.' ,'“', '”', '\"']"
   ]
  },
  {
   "cell_type": "code",
   "execution_count": 13,
   "id": "5b09fc85",
   "metadata": {},
   "outputs": [],
   "source": [
    "def aligned(mrph, gls):\n",
    "    if not len(mrph.split('-')) == len(gls.split('-')):\n",
    "        return False\n",
    "    if not len(mrph.split('=')) == len(gls.split('=')):\n",
    "        return False\n",
    "    return True\n",
    "\n",
    "def preprocess(igtlines, annotated=True):\n",
    "    newlines = []\n",
    "    unannotated = []\n",
    "    for line in igtlines:\n",
    "        for punct in PUNCTUATION:\n",
    "            line = line.translate(str.maketrans('', '', punct))\n",
    "        o,m,g,t = line.split('\\n')\n",
    "        notransl = o+'\\n'+m+'\\n'+g\n",
    "        if annotated == True and aligned(m,g):\n",
    "            newlines.append(notransl)\n",
    "        else:\n",
    "            unannotated.append(notransl+'\\n')\n",
    "    if annotated:\n",
    "        return newlines, unannotated\n",
    "    return unannotated"
   ]
  },
  {
   "cell_type": "code",
   "execution_count": 1,
   "id": "9d47a930",
   "metadata": {},
   "outputs": [
    {
     "ename": "NameError",
     "evalue": "name 'ANNOTATED' is not defined",
     "output_type": "error",
     "traceback": [
      "\u001b[1;31m---------------------------------------------------------------------------\u001b[0m",
      "\u001b[1;31mNameError\u001b[0m                                 Traceback (most recent call last)",
      "\u001b[1;32m<ipython-input-1-bea4c6af6c2e>\u001b[0m in \u001b[0;36m<module>\u001b[1;34m\u001b[0m\n\u001b[1;32m----> 1\u001b[1;33m \u001b[0mannotated\u001b[0m \u001b[1;33m=\u001b[0m \u001b[0mopen\u001b[0m\u001b[1;33m(\u001b[0m\u001b[0mANNOTATED\u001b[0m\u001b[1;33m,\u001b[0m \u001b[0mencoding\u001b[0m\u001b[1;33m=\u001b[0m\u001b[1;34m'utf8'\u001b[0m\u001b[1;33m)\u001b[0m\u001b[1;33m.\u001b[0m\u001b[0mread\u001b[0m\u001b[1;33m(\u001b[0m\u001b[1;33m)\u001b[0m\u001b[1;33m.\u001b[0m\u001b[0msplit\u001b[0m\u001b[1;33m(\u001b[0m\u001b[1;34m'\\n\\n'\u001b[0m\u001b[1;33m)\u001b[0m\u001b[1;33m\u001b[0m\u001b[1;33m\u001b[0m\u001b[0m\n\u001b[0m\u001b[0;32m      2\u001b[0m \u001b[0munannotated\u001b[0m \u001b[1;33m=\u001b[0m \u001b[1;33m[\u001b[0m\u001b[0mline\u001b[0m\u001b[1;33m+\u001b[0m\u001b[1;34m'@@@\\n@@@\\n'\u001b[0m \u001b[1;32mfor\u001b[0m \u001b[0mline\u001b[0m \u001b[1;32min\u001b[0m \u001b[0mopen\u001b[0m\u001b[1;33m(\u001b[0m\u001b[0mUNANNOTATED\u001b[0m\u001b[1;33m,\u001b[0m \u001b[0mencoding\u001b[0m\u001b[1;33m=\u001b[0m\u001b[1;34m'utf8'\u001b[0m\u001b[1;33m)\u001b[0m\u001b[1;33m]\u001b[0m\u001b[1;33m\u001b[0m\u001b[1;33m\u001b[0m\u001b[0m\n\u001b[0;32m      3\u001b[0m \u001b[1;33m\u001b[0m\u001b[0m\n\u001b[0;32m      4\u001b[0m \u001b[0mannotated\u001b[0m\u001b[1;33m,\u001b[0m \u001b[0mmisaligned\u001b[0m \u001b[1;33m=\u001b[0m \u001b[0mpreprocess\u001b[0m\u001b[1;33m(\u001b[0m\u001b[0mannotated\u001b[0m\u001b[1;33m)\u001b[0m\u001b[1;33m\u001b[0m\u001b[1;33m\u001b[0m\u001b[0m\n\u001b[0;32m      5\u001b[0m \u001b[0munannotated\u001b[0m \u001b[1;33m=\u001b[0m \u001b[0mpreprocess\u001b[0m\u001b[1;33m(\u001b[0m\u001b[0munannotated\u001b[0m\u001b[1;33m,\u001b[0m \u001b[0mannotated\u001b[0m\u001b[1;33m=\u001b[0m\u001b[1;32mFalse\u001b[0m\u001b[1;33m)\u001b[0m \u001b[1;33m+\u001b[0m \u001b[0mmisaligned\u001b[0m\u001b[1;33m\u001b[0m\u001b[1;33m\u001b[0m\u001b[0m\n",
      "\u001b[1;31mNameError\u001b[0m: name 'ANNOTATED' is not defined"
     ]
    }
   ],
   "source": [
    "annotated = open(ANNOTATED_FILE, encoding='utf8').read().split('\\n\\n')\n",
    "unannotated = [line+'@@@\\n@@@\\n' for line in open(UNANNOTATED_FILE, encoding='utf8')]\n",
    "\n",
    "annotated, misaligned = preprocess(annotated)\n",
    "unannotated = preprocess(unannotated, annotated=False) + misaligned\n",
    "\n",
    "with open(TODIR+KEY+'.predict', 'w', encoding='utf8') as u:\n",
    "    u.write('\\n'.join(unannotated))\n",
    "\n",
    "train, test = train_test_split(annotated, test_size=.1, random_state=42)\n",
    "with open(TODIR+KEY+'0'+'.train', 'w', encoding='utf8') as t:\n",
    "    t.write('\\n\\n'.join(train))\n",
    "with open(TODIR+KEY+'0'+'.test', 'w', encoding='utf8') as t:\n",
    "    t.write('\\n\\n'.join(test))"
   ]
  },
  {
   "cell_type": "code",
   "execution_count": null,
   "id": "ca8d4496",
   "metadata": {},
   "outputs": [],
   "source": []
  }
 ],
 "metadata": {
  "kernelspec": {
   "display_name": "Python 3",
   "language": "python",
   "name": "python3"
  },
  "language_info": {
   "codemirror_mode": {
    "name": "ipython",
    "version": 3
   },
   "file_extension": ".py",
   "mimetype": "text/x-python",
   "name": "python",
   "nbconvert_exporter": "python",
   "pygments_lexer": "ipython3",
   "version": "3.8.8"
  }
 },
 "nbformat": 4,
 "nbformat_minor": 5
}
