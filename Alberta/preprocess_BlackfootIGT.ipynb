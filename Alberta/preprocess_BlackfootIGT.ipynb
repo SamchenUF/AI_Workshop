{
 "cells": [
  {
   "cell_type": "code",
   "execution_count": 4,
   "id": "63493b47",
   "metadata": {},
   "outputs": [],
   "source": [
    "from sklearn.model_selection import train_test_split"
   ]
  },
  {
   "cell_type": "code",
   "execution_count": 5,
   "id": "483d4901",
   "metadata": {},
   "outputs": [],
   "source": [
    "TEAMCODE = 'bkft'\n",
    "TASK = '_igt'\n",
    "MODEL = 'Trans'\n",
    "\n",
    "FROMDIR = r'./AI_Workshop/Alberta/bkft/'\n",
    "TODIR = FROMDIR + '/data/'\n",
    "\n",
    "KEY = TEAMCODE+TASK+MODEL\n",
    "\n",
    "PUNCTUATION = ['!', '.' ,'“', '”', '\"']"
   ]
  },
  {
   "cell_type": "code",
   "execution_count": 13,
   "id": "5b09fc85",
   "metadata": {},
   "outputs": [],
   "source": [
    "def aligned(mrph, gls):\n",
    "    if not len(mrph.split('-')) == len(gls.split('-')):\n",
    "        return False\n",
    "    if not len(mrph.split('=')) == len(gls.split('=')):\n",
    "        return False\n",
    "    return True\n",
    "\n",
    "def preprocess(igtlines, annotated=True):\n",
    "    newlines = []\n",
    "    unannotated = []\n",
    "    for line in igtlines:\n",
    "        for punct in PUNCTUATION:\n",
    "            line = line.translate(str.maketrans('', '', punct))\n",
    "        o,m,g,t = line.split('\\n')\n",
    "        notransl = o+'\\n'+m+'\\n'+g\n",
    "        if annotated == True and aligned(m,g):\n",
    "            newlines.append(notransl)\n",
    "        else:\n",
    "            unannotated.append(notransl+'\\n')\n",
    "    if annotated:\n",
    "        return newlines, unannotated\n",
    "    return unannotated"
   ]
  },
  {
   "cell_type": "code",
   "execution_count": 15,
   "id": "9d47a930",
   "metadata": {},
   "outputs": [
    {
     "name": "stdout",
     "output_type": "stream",
     "text": [
      "['Nííksi nínaiksi áyoohkimaayaawa tsiskáá otáakitohkiimspa\\nann-iksi nínaa-iksi a-yoohkimaa-yi=aawa takáá\\ndem-plan man-plan ipfv-wait(vai)-3pl=3plpro who 3-fut-loc-havewife(vai)-irr\\n', 'Náá nínaakiiwa iistsítsaksiwa ookóówani, otsíítoyisi\\nann-wa nínaa-aakíí-wa iiht-it-saksi-wa ot-niit-moyís-yi\\ndem-3sgan chief-woman-3sgan obl-loc-exit(vai)-3sg 3poss-home-sgin 3poss-original-dwelling-sgin\\n']\n",
      "['Aakíípisskani\\naakíí-pisskan-yi\\nwoman-buffalojump-SGIN', \"Áámo ksiistsikóyi náá nínaakiiwa poká'paissiimiiwa nííksi mattáákiiksi niitsitóki'kao'pi\\namo ksiistsikó-yi ann-wa nínaa-aakíí-wa ohpok-a'paissi-:m-yiiwa ann-iksi matt-aakíí-iksi niit-it-oki'kaa-o'p-yi\\ndem day-sgin dem-3sgan chief-woman-3sgan acmp-passtime(vii)-acmp-3sg>4 dem-plan other-woman-plan manr-loc-camp(vai)-1plinclconjnmlz-sgin\"]\n",
      "['Aakíípisskani\\n@@@\\n@@@\\n', 'Áámo ksiistsikóyi náá nínaakiiwa poká’paissiimiiwa nííksi mattáákiiksi niitsitóki’kao’pi Táánistsiiwa nííksi mattáákiiksi mááhkitsskitapoohsaawa míí niitóyisi mááhkitsikaiksista’pssi\\n@@@\\n@@@\\n']\n"
     ]
    }
   ],
   "source": [
    "annotated = open(FROMDIR+'Aakiipisskani_igt.txt', encoding='utf8').read().split('\\n\\n')\n",
    "unannotated = [line+'@@@\\n@@@\\n' for line in open(FROMDIR+'Aakiipisskani_bkft.txt', encoding='utf8')]\n",
    "\n",
    "annotated, misaligned = preprocess(annotated)\n",
    "unannotated = preprocess(unannotated, annotated=False) + misaligned\n",
    "\n",
    "with open(TODIR+KEY+'.predict', 'w', encoding='utf8') as u:\n",
    "    u.write('\\n'.join(unannotated))\n",
    "\n",
    "train, test = train_test_split(annotated, test_size=.1, random_state=42)\n",
    "with open(TODIR+KEY+'0'+'.train', 'w', encoding='utf8') as t:\n",
    "    t.write('\\n\\n'.join(train))\n",
    "with open(TODIR+KEY+'0'+'.test', 'w', encoding='utf8') as t:\n",
    "    t.write('\\n\\n'.join(test))"
   ]
  },
  {
   "cell_type": "code",
   "execution_count": 36,
   "id": "ea3ea035",
   "metadata": {},
   "outputs": [
    {
     "ename": "SyntaxError",
     "evalue": "invalid syntax (<ipython-input-36-9c222aa289a1>, line 1)",
     "output_type": "error",
     "traceback": [
      "\u001b[1;36m  File \u001b[1;32m\"<ipython-input-36-9c222aa289a1>\"\u001b[1;36m, line \u001b[1;32m1\u001b[0m\n\u001b[1;33m    TODO: split test file\u001b[0m\n\u001b[1;37m                ^\u001b[0m\n\u001b[1;31mSyntaxError\u001b[0m\u001b[1;31m:\u001b[0m invalid syntax\n"
     ]
    }
   ],
   "source": [
    "TODO: split test file"
   ]
  },
  {
   "cell_type": "code",
   "execution_count": null,
   "id": "caad110d",
   "metadata": {},
   "outputs": [],
   "source": [
    "\n"
   ]
  }
 ],
 "metadata": {
  "kernelspec": {
   "display_name": "Python 3",
   "language": "python",
   "name": "python3"
  },
  "language_info": {
   "codemirror_mode": {
    "name": "ipython",
    "version": 3
   },
   "file_extension": ".py",
   "mimetype": "text/x-python",
   "name": "python",
   "nbconvert_exporter": "python",
   "pygments_lexer": "ipython3",
   "version": "3.8.8"
  }
 },
 "nbformat": 4,
 "nbformat_minor": 5
}
